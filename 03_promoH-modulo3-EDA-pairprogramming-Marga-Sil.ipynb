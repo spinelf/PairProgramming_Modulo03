{
 "cells": [
  {
   "cell_type": "markdown",
   "metadata": {},
   "source": [
    "## Pair EDA\n",
    "\n",
    "Para realizar este pair programming deberéis usar el conjunto de datos de world-data-2023-part1.csv.\n",
    "\n",
    "En este fichero encontraremos la siguiente información:\n",
    "\n",
    "    - Country: Nombre del país.\n",
    "\n",
    "    - Density\\n(P/Km2): Densidad de población medida en personas por kilómetro cuadrado.\n",
    "\n",
    "    - Abbreviation: Abreviatura o código que representa al país.\n",
    "\n",
    "    - Agricultural Land( %): Porcentaje del área total de tierra utilizada con fines agrícolas.\n",
    "\n",
    "    - Land Area(Km2): Área total de tierra del país en kilómetros cuadrados.\n",
    "\n",
    "    - Armed Forces size: Tamaño de las fuerzas armadas en el país.\n",
    "\n",
    "    - Birth Rate: Número de nacimientos por cada 1,000 habitantes por año.\n",
    "\n",
    "    - Calling Code: Código internacional de llamada para el país.\n",
    "\n",
    "    - Capital/Major City: Nombre de la capital o ciudad principal.\n",
    "\n",
    "    - Co2-Emissions: Emisiones de dióxido de carbono en toneladas.\n",
    "\n",
    "    - CPI: Índice de Precios al Consumidor (IPC), una medida de la inflación y el poder adquisitivo.\n",
    "\n",
    "    - CPI Change (%): Cambio porcentual en el Índice de Precios al Consumidor en comparación con el año anterior.\n",
    "\n",
    "    - Currency-Code: Código de moneda utilizado en el país.\n",
    "\n",
    "    - Fertility Rate: Número promedio de hijos nacidos de una mujer durante su vida.\n",
    "\n",
    "    - Forested Area (%): Porcentaje del área total cubierta por bosques.\n",
    "\n",
    "    - Gasoline Price: Precio de la gasolina por litro en moneda local."
   ]
  },
  {
   "cell_type": "markdown",
   "metadata": {},
   "source": [
    "## Ejercicios de exploración del conjunto de datos"
   ]
  },
  {
   "cell_type": "markdown",
   "metadata": {},
   "source": [
    "1. Muestra las primeras 5 filas del conjunto de datos."
   ]
  },
  {
   "cell_type": "markdown",
   "metadata": {},
   "source": [
    "2. Muestra las últimas 5 filas del conjunto de datos."
   ]
  },
  {
   "cell_type": "markdown",
   "metadata": {},
   "source": [
    "3. Muestra una muestra aleatoria de 5 filas del conjunto de datos."
   ]
  },
  {
   "cell_type": "markdown",
   "metadata": {},
   "source": [
    "4. Muestra el nombre de todas las columnas en el conjunto de datos."
   ]
  },
  {
   "cell_type": "markdown",
   "metadata": {},
   "source": [
    "5. Muestra los valores únicos en la columna \"Abbreviation\"."
   ]
  },
  {
   "cell_type": "markdown",
   "metadata": {},
   "source": [
    "## BONUS DE EXPLORACION"
   ]
  },
  {
   "cell_type": "markdown",
   "metadata": {},
   "source": [
    "1. Cuenta cuántas veces aparece cada valor único en la columna \"Abbreviation\"."
   ]
  },
  {
   "cell_type": "markdown",
   "metadata": {},
   "source": [
    "2. Verifica si hay valores nulos en el conjunto de datos."
   ]
  },
  {
   "cell_type": "markdown",
   "metadata": {},
   "source": [
    "3. Verifica si hay valores no nulos en el conjunto de datos."
   ]
  },
  {
   "cell_type": "markdown",
   "metadata": {},
   "source": [
    "4. Muestra información general sobre el conjunto de datos."
   ]
  },
  {
   "cell_type": "markdown",
   "metadata": {},
   "source": [
    "5. Elimina una columna específica (por ejemplo, \"Armed Forces size\")."
   ]
  },
  {
   "cell_type": "markdown",
   "metadata": {},
   "source": [
    "6. Selecciona las columnas numéricas del conjunto de datos y muestra sus estadísticas descriptivas básicas (para esto tendréis que usar el método '.describe(), su documentación la tenéis aquí)."
   ]
  },
  {
   "cell_type": "markdown",
   "metadata": {},
   "source": [
    "## Ejercicios con loc e iloc"
   ]
  },
  {
   "cell_type": "markdown",
   "metadata": {},
   "source": [
    "1. Selecciona todas las columnas de las filas 2 a 4 (inclusive) utilizando loc."
   ]
  },
  {
   "cell_type": "markdown",
   "metadata": {},
   "source": [
    "2. Utilizando loc, filtra el conjunto de datos para mostrar solo las filas donde la densidad (columna \"Birth Rate\") es mayor a 30."
   ]
  },
  {
   "cell_type": "markdown",
   "metadata": {},
   "source": [
    "3. Utilizando loc selecciona las columnas \"Country\" y \"Capital/Major City\" de las filas donde el porcentaje de tierra agrícola (columna \"Fertility Rate\") es superior al 3."
   ]
  },
  {
   "cell_type": "markdown",
   "metadata": {},
   "source": [
    "4. Selecciona todas las filas de las columnas 0 a 4 (excluyendo la columna 4) utilizando iloc."
   ]
  },
  {
   "cell_type": "markdown",
   "metadata": {},
   "source": [
    "5. Encuentra el valor en la fila 2 y columna 7 utilizando iloc."
   ]
  },
  {
   "cell_type": "markdown",
   "metadata": {},
   "source": [
    "6. Selecciona todas las filas para las columnas 0, 2, y 5 utilizando iloc."
   ]
  },
  {
   "cell_type": "markdown",
   "metadata": {},
   "source": [
    "## BONUS DE LOC Y ILOC"
   ]
  },
  {
   "cell_type": "markdown",
   "metadata": {},
   "source": [
    "1. Encuentra el valor de \"Gasoline Price\" para el país cuya abreviatura es \"AL\" utilizando loc."
   ]
  },
  {
   "cell_type": "markdown",
   "metadata": {},
   "source": [
    "2. Selecciona todas las columnas para el país cuya capital es \"Tirana\" utilizando loc."
   ]
  },
  {
   "cell_type": "markdown",
   "metadata": {},
   "source": [
    "3. Filtra el conjunto de datos para mostrar solo las filas donde el índice de CPI (columna \"CPI\") sea igual a 128.85."
   ]
  },
  {
   "cell_type": "markdown",
   "metadata": {},
   "source": [
    "4. Encuentra la densidad (columna \"Density\\n(P/Km2)\") para el país cuya abreviatura es \"AD\" utilizando loc."
   ]
  },
  {
   "cell_type": "markdown",
   "metadata": {},
   "source": [
    "5. Selecciona las columnas \"Country\" y \"Co2-Emissions\"."
   ]
  },
  {
   "cell_type": "markdown",
   "metadata": {},
   "source": [
    "6. Filtra el conjunto de datos para mostrar solo las filas donde el índice de CPI cambió un 2% (columna \"CPI Change (%)\")."
   ]
  },
  {
   "cell_type": "markdown",
   "metadata": {},
   "source": [
    "7. Encuentra la tasa de natalidad (columna \"Birth Rate\") para el país con la abreviatura \"AF\" utilizando loc."
   ]
  },
  {
   "cell_type": "markdown",
   "metadata": {},
   "source": [
    "8. Selecciona todas las columnas de las filas 3 a 5 (excluyendo la fila 5) utilizando iloc."
   ]
  },
  {
   "cell_type": "markdown",
   "metadata": {},
   "source": [
    "9. Selecciona las columnas 1, 3 y 6 para todas las filas utilizando iloc."
   ]
  }
 ],
 "metadata": {
  "language_info": {
   "name": "python"
  }
 },
 "nbformat": 4,
 "nbformat_minor": 2
}
