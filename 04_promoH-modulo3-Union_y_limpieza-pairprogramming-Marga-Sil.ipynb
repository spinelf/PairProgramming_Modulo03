{
 "cells": [
  {
   "cell_type": "markdown",
   "metadata": {},
   "source": [
    "## Pair Unión y Limpieza de Datos"
   ]
  },
  {
   "cell_type": "markdown",
   "metadata": {},
   "source": [
    "### Ejercicios Unión de Datos"
   ]
  },
  {
   "cell_type": "markdown",
   "metadata": {},
   "source": [
    "Para realizar este pair programming deberéis usar el conjunto de datos de world-data-2023-part1.csv y el de world-data-2023-part2.csv.\n",
    "\n",
    "Hoy tenemos un dataset nuevo, en este encontraremos las siguientes columnas:\n",
    "\n",
    "    GDP: Producto Interno Bruto, el valor total de bienes y servicios producidos en el país.\n",
    "\n",
    "    Gross primary education enrollment (%): Tasa bruta de matriculación en educación primaria.\n",
    "\n",
    "    Gross tertiary education enrollment (%): Tasa bruta de matriculación en educación terciaria.\n",
    "\n",
    "    Infant mortality: Número de muertes por cada 1,000 nacidos vivos antes de cumplir un año de edad.\n",
    "\n",
    "    Largest city: Nombre de la ciudad más grande del país.\n",
    "\n",
    "    Life expectancy: Número promedio de años que se espera que viva un recién nacido.\n",
    "\n",
    "    Maternal mortality ratio: Número de muertes maternas por cada 100,000 nacidos vivos.\n",
    "\n",
    "    Minimum wage: Nivel de salario mínimo en moneda local.\n",
    "\n",
    "    Official language: Idioma(s) oficial(es) hablado(s) en el país.\n",
    "\n",
    "    Out of pocket health expenditure: Porcentaje del gasto total en salud pagado directamente por individuos.\n",
    "\n",
    "    Physicians per thousand: Número de médicos por cada mil personas.\n",
    "\n",
    "    Population: Población total del país.\n",
    "\n",
    "    Population: Labor force participation (%): Porcentaje de la población que forma parte de la fuerza laboral.\n",
    "\n",
    "    Tax revenue (%): Ingresos fiscales como porcentaje del PIB.\n",
    "\n",
    "    Total tax rate: Carga fiscal total como porcentaje de las ganancias comerciales.\n",
    "\n",
    "    Unemployment rate: Porcentaje de la fuerza laboral que está desempleada.\n",
    "\n",
    "    Urban_population: Porcentaje de la población que vive en áreas urbanas.\n",
    "\n",
    "    coordinates: Coordenadas de latitud y longitud de la ubicación del país.\n",
    "\n",
    "    country: Nombre del país.\n",
    "\n",
    "Tienes a tu disposición dos conjuntos de datos, \"world-data-2023-part1.csv\" y \"world-data-2023-part2.csv\", que contienen información de una serie de indicadores y datos de distintos países. Tu tarea es explorar estos conjuntos de datos y determinar qué tienen en común en términos de columnas y datos.\n",
    "\n",
    "Luego, debes crear un nuevo DataFrame que combine la información de ambos conjuntos de datos en un solo conjunto de datos. Para hacerlo, debes seleccionar el método de unión de Pandas que consideres más apropiado para esta situación y justificar por qué crees que ese método es el mejor en tu informe.\n",
    "\n",
    "Asegúrate de realizar los siguientes pasos:"
   ]
  },
  {
   "cell_type": "markdown",
   "metadata": {},
   "source": [
    "\n",
    "1. Explora y carga ambos conjuntos de datos en pandas DataFrames."
   ]
  },
  {
   "cell_type": "markdown",
   "metadata": {},
   "source": [
    "2. Identifica las columnas comunes entre los dos conjuntos de datos."
   ]
  },
  {
   "cell_type": "markdown",
   "metadata": {},
   "source": [
    "3. Utiliza el método de unión de Pandas que consideres más adecuado para combinar los datos de ambos años en un solo DataFrame"
   ]
  },
  {
   "cell_type": "markdown",
   "metadata": {},
   "source": [
    "4. Explica por qué elegiste ese método de unión y cómo se llevaron a cabo los pasos anteriores."
   ]
  },
  {
   "cell_type": "markdown",
   "metadata": {},
   "source": [
    "# Ejercicios de Limpieza"
   ]
  },
  {
   "cell_type": "markdown",
   "metadata": {},
   "source": [
    "\n",
    "1. Después de la unión de datos, tenemos dos columnas de \"country\". Elimina una de ellas."
   ]
  },
  {
   "cell_type": "markdown",
   "metadata": {},
   "source": [
    "\n",
    "2. Los nombres de las columnas no son homogeneos. Cambia los nombres de las columnas de tal forma que:\n",
    "\n",
    "        No tengan espacios.\n",
    "\n",
    "        Estén en minúscula.\n",
    "\n",
    "        No tengan paréntesis, es decir, quitar \"(%)\", \"(Km2)\".\n",
    "\n",
    "        Algunas columnas tiene \"\\n\". Eliminalos de los nombres de las columnas.\n",
    "\n",
    "        Algunas columnas tienen \":\". Eliminalos de los nombres de las columnas."
   ]
  },
  {
   "cell_type": "markdown",
   "metadata": {},
   "source": [
    "\n",
    "3. La columnas coordinates tiene la latitud y la longitud en una sola columna. Crea dos columnas nuevas, una con la longitud y otra con la latitud. Una vez hecho, elimina la columna de coordinates."
   ]
  },
  {
   "cell_type": "markdown",
   "metadata": {},
   "source": [
    "\n",
    "4. Las columnas unemployment_rate, total_tax_rate, tax_revenue, population_labor_force_participation, out_of_pocket_health_expenditure, gross_tertiary_education_enrollment, gross_primary_education_enrollment, forested_area, cpi_change, agricultural_land tienen \"%\". Elimina los \"%\" de los valores de las columnas."
   ]
  },
  {
   "cell_type": "markdown",
   "metadata": {},
   "source": [
    "\n",
    "5. Haz lo mismo para las columnas de gasoline_price, gdp, minimum_wage, pero eliminando \"$\"."
   ]
  },
  {
   "cell_type": "markdown",
   "metadata": {},
   "source": [
    "\n",
    "6. Guarda el DataFrame para usarlo en el pairprogramming de mañana."
   ]
  },
  {
   "cell_type": "markdown",
   "metadata": {},
   "source": [
    "## Ejercicios de Filtrado"
   ]
  },
  {
   "cell_type": "markdown",
   "metadata": {},
   "source": [
    "\n",
    "1. Encuentra todos los países cuya mortalidad infantil esté entre 40 y 50 personas por kilómetro cuadrado."
   ]
  },
  {
   "cell_type": "markdown",
   "metadata": {},
   "source": [
    "\n",
    "2. Encuentra los países cuyas tasas de natalidad son mayores o iguales a 20 y su esperanza de vida es mayor de 75 años."
   ]
  },
  {
   "cell_type": "markdown",
   "metadata": {},
   "source": [
    "\n",
    "3. Encuentra las ciudades cuyos paises contienen la palabra \"la\" en su nombre."
   ]
  },
  {
   "cell_type": "markdown",
   "metadata": {},
   "source": [
    "\n",
    "4. Encuentra los países cuyos medicos por cada 1000 habitantes (physicians_per_thousand) sea mayores de 5."
   ]
  },
  {
   "cell_type": "markdown",
   "metadata": {},
   "source": [
    "\n",
    "5. Encuentra los países cuyatasa de fertilidad sea mayor a 6."
   ]
  },
  {
   "cell_type": "markdown",
   "metadata": {},
   "source": [
    "\n",
    "6. Encuentra los países cuya moneda es el euro (EUR) y tienen una tasa de natalidad superior al promedio."
   ]
  },
  {
   "cell_type": "markdown",
   "metadata": {},
   "source": [
    "\n",
    "7. Encuentra los países cuyas tasas de mortalidad infantil son superiores a 70."
   ]
  }
 ],
 "metadata": {
  "language_info": {
   "name": "python"
  }
 },
 "nbformat": 4,
 "nbformat_minor": 2
}
