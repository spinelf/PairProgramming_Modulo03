{
 "cells": [
  {
   "cell_type": "markdown",
   "metadata": {},
   "source": [
    "## Repaso Pandas"
   ]
  },
  {
   "cell_type": "markdown",
   "metadata": {},
   "source": [
    "### Los Datos\n",
    "\n",
    "Este conjunto de datos proporciona información detallada sobre lanzamientos de cohetes:\n",
    "\n",
    "    fairings: Información sobre las carenas del cohete.\n",
    "\n",
    "    links: Varios enlaces externos relacionados con el lanzamiento.\n",
    "\n",
    "    static_fire_date_utc: Fecha de la prueba estática de encendido en formato UTC.\n",
    "\n",
    "    static_fire_date_unix: Fecha de la prueba estática de encendido en marca de tiempo Unix.\n",
    "\n",
    "    net: Booleano que indica si es un lanzamiento NET (No Earlier Than).\n",
    "\n",
    "    window: Duración de la ventana de lanzamiento en segundos.\n",
    "\n",
    "    rocket: ID del cohete utilizado en el lanzamiento.\n",
    "\n",
    "    success: Booleano que indica el éxito del lanzamiento.\n",
    "\n",
    "    failures: Información sobre cualquier fallo en el lanzamiento.\n",
    "\n",
    "    details: Detalles sobre el lanzamiento y su resultado.\n",
    "\n",
    "    crew: Información sobre el personal involucrado.\n",
    "\n",
    "    ships: Lista de barcos involucrados en el lanzamiento.\n",
    "\n",
    "    capsules: Información sobre cualquier cápsula utilizada.\n",
    "\n",
    "    payloads: Lista de cargas útiles transportadas por el cohete.\n",
    "\n",
    "    launchpad: ID de la plataforma de lanzamiento utilizada para el lanzamiento.\n",
    "\n",
    "    flight_number: Número de vuelo único del lanzamiento.\n",
    "\n",
    "    name: Nombre de la misión o lanzamiento.\n",
    "\n",
    "    date_utc: Fecha de lanzamiento en formato UTC.\n",
    "\n",
    "    date_unix: Fecha de lanzamiento en marca de tiempo Unix.\n",
    "\n",
    "    date_local: Fecha y hora local del lanzamiento.\n",
    "\n",
    "    date_precision: Precisión de la fecha y hora del lanzamiento.\n",
    "\n",
    "    upcoming: Booleano que indica si el lanzamiento está próximo.\n",
    "\n",
    "    cores: Información sobre núcleos del cohete.\n",
    "\n",
    "    auto_update: Booleano que indica si los datos se actualizan automáticamente.\n",
    "\n",
    "    tbd: Booleano que indica si los detalles del lanzamiento están por determinar (TBD).\n",
    "\n",
    "    launch_library_id: ID relacionado con el lanzamiento en una biblioteca.\n",
    "\n",
    "    id: Identificador único del lanzamiento."
   ]
  },
  {
   "cell_type": "markdown",
   "metadata": {},
   "source": [
    "El objetivo\n",
    "\n",
    "En esta sesión, repasaremos los conceptos clave de Pandas aprendidas en las semanas anteriores. Algunos conceptos que repasaremos son:\n",
    "\n",
    "    Indexación y Selección: Recordaremos como seleccionar y filtrar datos utilizando métodos de indexación, incluyendo loc y iloc, así como técnicas para filtrar filas y columnas basadas en condiciones lógicas.\n",
    "\n",
    "    Limpieza de Datos: Recordaremos estrategias para manejar datos faltantes (NaN) y duplicados mediante métodos como dropna(), fillna().\n",
    "\n",
    "    Aplicación de Funciones (apply): Revisaremos cómo utilizar apply para aplicar funciones a lo largo de columnas, útil para transformaciones complejas en conjuntos de datos.\n",
    "\n",
    "    Groupby: Utilizaremos groupby para dividir datos en grupos basados en criterios específicos, permitiendo realizar cálculos agregados, resúmenes y análisis detallados para cada grupo."
   ]
  },
  {
   "cell_type": "markdown",
   "metadata": {},
   "source": [
    "Indexación y Selección: Recordaremos como seleccionar y filtrar datos utilizando métodos de indexación, incluyendo loc y iloc, así como técnicas para filtrar filas y columnas basadas en condiciones lógicas.\n"
   ]
  },
  {
   "cell_type": "code",
   "execution_count": null,
   "metadata": {},
   "outputs": [],
   "source": []
  },
  {
   "cell_type": "code",
   "execution_count": null,
   "metadata": {},
   "outputs": [],
   "source": []
  }
 ],
 "metadata": {
  "language_info": {
   "name": "python"
  }
 },
 "nbformat": 4,
 "nbformat_minor": 2
}
