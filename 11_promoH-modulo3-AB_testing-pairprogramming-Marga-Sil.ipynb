{
 "cells": [
  {
   "cell_type": "markdown",
   "metadata": {},
   "source": [
    "## Pair programming A/B testing"
   ]
  },
  {
   "cell_type": "markdown",
   "metadata": {},
   "source": [
    "### Ejericicios de A/B Testing"
   ]
  },
  {
   "cell_type": "markdown",
   "metadata": {},
   "source": [
    "Ejercicio 1:\n",
    "\n",
    "Supongamos que estamos realizando un experimento para determinar si un nuevo diseño de anuncio (test group \"ad\") tiene un impacto significativo en la tasa de conversión en comparación con el diseño de anuncio anterior (test group \"psa\").\n",
    "\n",
    "Objetivo del ejercicio: Comparar las tasas de conversión entre los grupos de prueba \"ad\" y \"psa\" para determinar si el nuevo diseño de anuncio es más efectivo en la conversión de usuarios.\n",
    "\n",
    "Pasos que debemos seguir:\n",
    "\n",
    "Preparación de los datos: Asegúrate de que los datos estén limpios y listos para el análisis. Esto incluye la eliminación de datos faltantes y la verificación de la coherencia de los datos.\n",
    "\n",
    "Definición de las hipótesis: Plantea una hipótesis nula (H0) y una hipótesis alternativa (H1) para el experimento (en este caso os las damos definidas):\n",
    "\n",
    "Hipótesis nula (H0): No hay diferencia significativa en la tasa de conversión entre los grupos de prueba \"ad\" y \"psa\".\n",
    "\n",
    "Hipótesis alternativa (H1): Existe una diferencia significativa en la tasa de conversión entre los grupos de prueba \"ad\" y \"psa\".\n",
    "\n",
    "Cálculo de la tasa de conversión: Calcula la tasa de conversión para cada grupo:\n",
    "\n",
    "Para el grupo \"ad\", la tasa de conversión es el número de usuarios convertidos dividido por el número total de usuarios en ese grupo.\n",
    "\n",
    "Para el grupo \"psa\", realiza el mismo cálculo.\n",
    "\n",
    "Prueba de hipótesis: Utiliza una prueba estadística, como la prueba t de Student o la prueba chi-cuadrado, para comparar las tasas de conversión entre los grupos \"ad\" y \"psa\".\n",
    "\n",
    "Análisis de resultados:\n",
    "\n",
    "Si el valor p es menor que un umbral predefinido (por ejemplo, 0.05), rechazamos la hipótesis nula y concluimos que hay una diferencia significativa en las tasas de conversión entre los grupos.\n",
    "\n",
    "Si el valor p es mayor que el umbral, no podemos rechazar la hipótesis nula y concluimos que no hay evidencia suficiente para afirmar que hay una diferencia significativa.\n",
    "\n",
    "Conclusiones y recomendaciones: Basándote en los resultados de la prueba de hipótesis, llega a una conclusión sobre si el nuevo diseño de anuncio es más efectivo en la conversión de usuarios que el diseño anterior. Si es así, puedes hacer recomendaciones basadas en estos hallazgos."
   ]
  },
  {
   "cell_type": "markdown",
   "metadata": {},
   "source": [
    "Ejercicio 2:\n",
    "\n",
    "En este caso, vamos a realizar un experimento para comparar la cantidad promedio ççde anuncios vistos por los usuarios en los grupos \"ad\" y \"psa\" y determinar si hay una diferencia significativa entre ellos.\n",
    "\n",
    "Objetivo del experimento: Comparar la cantidad promedio de anuncios vistos por usuario entre los grupos de prueba \"ad\" y \"psa\" para determinar si el tipo de anuncio afecta la cantidad de anuncios que los usuarios ven.\n",
    "\n",
    "Preparación de los datos: Asegúrate de que los datos estén limpios y listos para el análisis. Esto incluye la eliminación de datos faltantes y la verificación de la coherencia de los datos.\n",
    "\n",
    "Hipótesis: Plantea una hipótesis nula (H0) y una hipótesis alternativa (H1) para el experimento. En este caso, las deberéis plantear vosotras\n",
    "\n",
    "Prueba de hipótesis: Utiliza una prueba estadística, como la prueba t de Student, para comparar la cantidad promedio de anuncios vistos por usuario entre los grupos \"ad\" y \"psa\". Esto te permitirá determinar si hay una diferencia significativa entre los dos grupos.\n",
    "\n",
    "Análisis de resultados:\n",
    "\n",
    "Si el valor p (p-value) es menor que un umbral predefinido (por ejemplo, 0.05), rechazamos la hipótesis nula y concluimos que hay una diferencia significativa en la cantidad promedio de anuncios vistos por usuario entre los grupos.\n",
    "\n",
    "Si el valor p es mayor que el umbral, no podemos rechazar la hipótesis nula y concluimos que no hay evidencia suficiente para afirmar que hay una diferencia significativa.\n",
    "\n",
    "Conclusiones y recomendaciones: Basándote en los resultados de la prueba de hipótesis, llega a una conclusión sobre si el tipo de anuncio (ad o psa) tiene un impacto significativo en la cantidad promedio de anuncios vistos por usuario. Si es así, puedes hacer recomendaciones basadas en estos hallazgos."
   ]
  }
 ],
 "metadata": {
  "language_info": {
   "name": "python"
  }
 },
 "nbformat": 4,
 "nbformat_minor": 2
}
