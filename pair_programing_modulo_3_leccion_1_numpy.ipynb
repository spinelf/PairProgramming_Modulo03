{
 "cells": [
  {
   "cell_type": "code",
   "execution_count": null,
   "metadata": {},
   "outputs": [],
   "source": []
  },
  {
   "cell_type": "markdown",
   "metadata": {},
   "source": [
    "Creación y Indexación:\n",
    "Crea un array 1D con 50 valores aleatorio del 10 al 99. Accede a los elementos en las posiciones múltiplos de 5.\n",
    "\n",
    "Crea un array 1D con 30 valores del 1 al 20 (ambos incluidos). Utiliza indexación para obtener los elementos en las posiciones impares.\n",
    "\n",
    "Crea un array 2D de forma (4, 6) con números aleatorios decimales (no deben estar comprendidos solo entre 0 y 1). Accede a la última fila de la matriz. Los decimales deben estar redondeados a 2 decimales.\n",
    "\n",
    "BONUS: Crea un array 3D de forma (2, 3, 5) y 50 elementos con números enteros entre 0 y 100 (ambos incluidos). Reemplaza los elementos en posiciones múltiplos de 3 por 0."
   ]
  },
  {
   "cell_type": "code",
   "execution_count": 1,
   "metadata": {},
   "outputs": [],
   "source": [
    "# antes de empezar importamos la librería de NumPy para poder trabajar con todos sus métodos. \n",
    "import numpy as np"
   ]
  },
  {
   "cell_type": "code",
   "execution_count": 10,
   "metadata": {},
   "outputs": [
    {
     "name": "stdout",
     "output_type": "stream",
     "text": [
      "[53 48 67 16 41 18 23 66 57 52 34 99 99 76 63 81 33 38 64 16 98 70 99 21\n",
      " 51 51 90 31 17 46 71 32 28 57 82 31 71 80 63 70 58 48 87 80 94 37 58 17\n",
      " 37 71]\n",
      "(array([21, 26, 37, 39, 43], dtype=int64),)\n",
      "81\n"
     ]
    }
   ],
   "source": [
    "#Crea un array 1D con 50 valores aleatorio del 10 al 99. Accede a los elementos en las posiciones múltiplos de 5.\n",
    "array_10_99=np.random.randint(10,100,50)\n",
    "print(array_10_99)\n",
    "\n",
    "posiciones=np.where(array_10_99%5==0)\n"
   ]
  },
  {
   "cell_type": "code",
   "execution_count": 15,
   "metadata": {},
   "outputs": [
    {
     "name": "stdout",
     "output_type": "stream",
     "text": [
      "[70 90 80 70 80]\n"
     ]
    }
   ],
   "source": [
    "for i in posiciones:\n",
    "    print(array_10_99[i])\n"
   ]
  },
  {
   "cell_type": "code",
   "execution_count": 17,
   "metadata": {},
   "outputs": [
    {
     "name": "stdout",
     "output_type": "stream",
     "text": [
      "[53 48 67 16 41 18 23 66 57 52 34 99 99 76 63 81 33 38 64 16 98 70 99 21\n",
      " 51 51 90 31 17 46 71 32 28 57 82 31 71 80 63 70 58 48 87 80 94 37 58 17\n",
      " 37 71]\n",
      "[48 16 18 66 52 99 76 81 38 16 70 21 51 31 46 32 57 31 80 70 48 80 37 17\n",
      " 71]\n"
     ]
    }
   ],
   "source": [
    "#Crea un array 1D con 30 valores del 1 al 20 (ambos incluidos). Utiliza indexación para obtener los elementos en las posiciones impares.\n",
    "array_1_20=np.random.randint(1,21,30)\n",
    "print(array_10_99)\n",
    "print(array_10_99[1::2])"
   ]
  },
  {
   "cell_type": "code",
   "execution_count": 22,
   "metadata": {},
   "outputs": [
    {
     "name": "stdout",
     "output_type": "stream",
     "text": [
      "[[0.88 0.97 0.22 0.85 0.52 0.55]\n",
      " [0.78 0.7  0.15 0.93 0.63 0.99]\n",
      " [0.28 0.68 0.88 0.3  0.96 0.36]\n",
      " [0.58 0.56 0.76 0.03 0.23 0.77]]\n"
     ]
    }
   ],
   "source": [
    "#Crea un array 2D de forma (4, 6) con números aleatorios decimales \n",
    "#(no deben estar comprendidos solo entre 0 y 1). Accede a la última fila de la matriz. Los decimales deben estar redondeados a 2 decimales.\n",
    "\n",
    "array_0_1=np.random.rand(4,6)\n",
    "array_0_1_redon=np.round(array_0_1,2)\n",
    "print(np.round(array_0_1,2))"
   ]
  },
  {
   "cell_type": "code",
   "execution_count": 23,
   "metadata": {},
   "outputs": [
    {
     "data": {
      "text/plain": [
       "array([0.58, 0.56, 0.76, 0.03, 0.23, 0.77])"
      ]
     },
     "execution_count": 23,
     "metadata": {},
     "output_type": "execute_result"
    }
   ],
   "source": [
    "array_0_1_redon[3]"
   ]
  },
  {
   "cell_type": "code",
   "execution_count": null,
   "metadata": {},
   "outputs": [],
   "source": [
    "#BONUS: Crea un array 3D de forma (2, 3, 5) y 50 elementos con números enteros entre 0 y 100 (ambos incluidos). Reemplaza los elementos en posiciones múltiplos de 3 por 0.\n",
    "\n"
   ]
  },
  {
   "cell_type": "markdown",
   "metadata": {},
   "source": [
    "Reshape y Transpose:\n",
    "Ejercicios con reshape:\n",
    "Crea un array 3D de forma (2, 3, 4) con valores aleatorios entre 1 y 100 (ambos inclusive). Utiliza reshape para convertirlo en un array 2D. Deberás pensar en la forma que es correcta para hacer este cambio.\n",
    "\n",
    "Crea un array 3D de forma (3, 4, 5) con valores enteros del 1 al 61 (sin incluir). Utiliza reshape para convertirlo en un array 2D.\n",
    "\n",
    "Ejercicios con transpose:\n",
    "Utiliza el array 3D del ejercicio 2 de reshape. Utiliza transpose para permutar los ejes y obtener un nuevo array con forma (5, 4, 3).\n",
    "\n",
    "Utiliza el array 3D del ejercicio 2 de reshape. Utiliza transpose para cambiar el orden de los ejes y obtener un nuevo array con forma (3, 5, 4)."
   ]
  },
  {
   "cell_type": "code",
   "execution_count": 24,
   "metadata": {},
   "outputs": [
    {
     "name": "stdout",
     "output_type": "stream",
     "text": [
      "[[[ 88  10  69  28]\n",
      "  [ 80  12 100  36]\n",
      "  [ 39  37  11  53]]\n",
      "\n",
      " [[ 24  33  85  26]\n",
      "  [ 80  99  60  39]\n",
      "  [ 76  58  27  36]]]\n"
     ]
    }
   ],
   "source": [
    "#Ejercicios con reshape:\n",
    "#Crea un array 3D de forma (2, 3, 4) con valores aleatorios entre 1 y 100 (ambos inclusive).\n",
    "#Utiliza reshape para convertirlo en un array 2D. Deberás pensar en la forma que es correcta para hacer este cambio.\n",
    "\n",
    "array_a=np.random.randint(1,101,(2,3,4))\n",
    "print(array_a)"
   ]
  },
  {
   "cell_type": "code",
   "execution_count": 25,
   "metadata": {},
   "outputs": [
    {
     "data": {
      "text/plain": [
       "24"
      ]
     },
     "execution_count": 25,
     "metadata": {},
     "output_type": "execute_result"
    }
   ],
   "source": [
    "array_a.size"
   ]
  },
  {
   "cell_type": "code",
   "execution_count": 27,
   "metadata": {},
   "outputs": [
    {
     "data": {
      "text/plain": [
       "array([[ 88,  10,  69,  28,  80,  12],\n",
       "       [100,  36,  39,  37,  11,  53],\n",
       "       [ 24,  33,  85,  26,  80,  99],\n",
       "       [ 60,  39,  76,  58,  27,  36]])"
      ]
     },
     "execution_count": 27,
     "metadata": {},
     "output_type": "execute_result"
    }
   ],
   "source": [
    "array_2d= np.reshape(array_a, (4,6))\n",
    "array_2d"
   ]
  },
  {
   "cell_type": "code",
   "execution_count": 29,
   "metadata": {},
   "outputs": [
    {
     "name": "stdout",
     "output_type": "stream",
     "text": [
      "[[[19  7 44 12  4]\n",
      "  [12 45 43 42  1]\n",
      "  [18 14 19  2 44]\n",
      "  [ 8 57 12 17 53]]\n",
      "\n",
      " [[11 38 43 29  7]\n",
      "  [56 35 30 55 32]\n",
      "  [ 4 50 26 27 52]\n",
      "  [45 26 18 40 19]]\n",
      "\n",
      " [[39 28 57 20  3]\n",
      "  [29 55  6 20 31]\n",
      "  [48 11  3 29 42]\n",
      "  [59 59 34 48 52]]]\n"
     ]
    },
    {
     "data": {
      "text/plain": [
       "60"
      ]
     },
     "execution_count": 29,
     "metadata": {},
     "output_type": "execute_result"
    }
   ],
   "source": [
    "#Crea un array 3D de forma (3, 4, 5) con valores enteros del 1 al 61 (sin incluir). Utiliza reshape para convertirlo en un array 2D.\n",
    "array_b=np.random.randint(1,61,(3,4,5))\n",
    "print(array_b)\n",
    "array_b.size"
   ]
  },
  {
   "cell_type": "code",
   "execution_count": 30,
   "metadata": {},
   "outputs": [
    {
     "data": {
      "text/plain": [
       "array([[19,  7, 44, 12,  4, 12, 45, 43, 42,  1],\n",
       "       [18, 14, 19,  2, 44,  8, 57, 12, 17, 53],\n",
       "       [11, 38, 43, 29,  7, 56, 35, 30, 55, 32],\n",
       "       [ 4, 50, 26, 27, 52, 45, 26, 18, 40, 19],\n",
       "       [39, 28, 57, 20,  3, 29, 55,  6, 20, 31],\n",
       "       [48, 11,  3, 29, 42, 59, 59, 34, 48, 52]])"
      ]
     },
     "execution_count": 30,
     "metadata": {},
     "output_type": "execute_result"
    }
   ],
   "source": [
    "arrayb_2d= np.reshape(array_b, (6,10))\n",
    "arrayb_2d"
   ]
  },
  {
   "cell_type": "code",
   "execution_count": 31,
   "metadata": {},
   "outputs": [
    {
     "data": {
      "text/plain": [
       "(3, 4, 5)"
      ]
     },
     "execution_count": 31,
     "metadata": {},
     "output_type": "execute_result"
    }
   ],
   "source": [
    "#Ejercicios con transpose:\n",
    "#Utiliza el array 3D del ejercicio 2 de reshape. Utiliza transpose para permutar los ejes y obtener un nuevo array con forma (5, 4, 3).\n",
    "array_b\n",
    "array_b.shape"
   ]
  },
  {
   "cell_type": "code",
   "execution_count": 32,
   "metadata": {},
   "outputs": [
    {
     "name": "stdout",
     "output_type": "stream",
     "text": [
      "[[[19 11 39]\n",
      "  [12 56 29]\n",
      "  [18  4 48]\n",
      "  [ 8 45 59]]\n",
      "\n",
      " [[ 7 38 28]\n",
      "  [45 35 55]\n",
      "  [14 50 11]\n",
      "  [57 26 59]]\n",
      "\n",
      " [[44 43 57]\n",
      "  [43 30  6]\n",
      "  [19 26  3]\n",
      "  [12 18 34]]\n",
      "\n",
      " [[12 29 20]\n",
      "  [42 55 20]\n",
      "  [ 2 27 29]\n",
      "  [17 40 48]]\n",
      "\n",
      " [[ 4  7  3]\n",
      "  [ 1 32 31]\n",
      "  [44 52 42]\n",
      "  [53 19 52]]]\n"
     ]
    },
    {
     "data": {
      "text/plain": [
       "(5, 4, 3)"
      ]
     },
     "execution_count": 32,
     "metadata": {},
     "output_type": "execute_result"
    }
   ],
   "source": [
    "nuevo_array=np.transpose(array_b)\n",
    "print(nuevo_array)\n",
    "nuevo_array.shape"
   ]
  },
  {
   "cell_type": "code",
   "execution_count": 33,
   "metadata": {},
   "outputs": [
    {
     "data": {
      "text/plain": [
       "(3, 4, 5)"
      ]
     },
     "execution_count": 33,
     "metadata": {},
     "output_type": "execute_result"
    }
   ],
   "source": [
    "#Utiliza el array 3D del ejercicio 2 de reshape. Utiliza transpose para cambiar el orden de los ejes y obtener un nuevo array con forma (3, 5, 4).\n",
    "array_b\n",
    "array_b.shape"
   ]
  },
  {
   "cell_type": "code",
   "execution_count": 39,
   "metadata": {},
   "outputs": [
    {
     "name": "stdout",
     "output_type": "stream",
     "text": [
      "[[[19 12 18  8]\n",
      "  [ 7 45 14 57]\n",
      "  [44 43 19 12]\n",
      "  [12 42  2 17]\n",
      "  [ 4  1 44 53]]\n",
      "\n",
      " [[11 56  4 45]\n",
      "  [38 35 50 26]\n",
      "  [43 30 26 18]\n",
      "  [29 55 27 40]\n",
      "  [ 7 32 52 19]]\n",
      "\n",
      " [[39 29 48 59]\n",
      "  [28 55 11 59]\n",
      "  [57  6  3 34]\n",
      "  [20 20 29 48]\n",
      "  [ 3 31 42 52]]]\n"
     ]
    },
    {
     "data": {
      "text/plain": [
       "(3, 5, 4)"
      ]
     },
     "execution_count": 39,
     "metadata": {},
     "output_type": "execute_result"
    }
   ],
   "source": [
    "nuevo1_array=np.swapaxes(array_b,1,2)\n",
    "print(nuevo1_array)\n",
    "nuevo1_array.shape"
   ]
  },
  {
   "cell_type": "code",
   "execution_count": 42,
   "metadata": {},
   "outputs": [
    {
     "name": "stdout",
     "output_type": "stream",
     "text": [
      "[[[19 12 18  8]\n",
      "  [ 7 45 14 57]\n",
      "  [44 43 19 12]\n",
      "  [12 42  2 17]\n",
      "  [ 4  1 44 53]]\n",
      "\n",
      " [[11 56  4 45]\n",
      "  [38 35 50 26]\n",
      "  [43 30 26 18]\n",
      "  [29 55 27 40]\n",
      "  [ 7 32 52 19]]\n",
      "\n",
      " [[39 29 48 59]\n",
      "  [28 55 11 59]\n",
      "  [57  6  3 34]\n",
      "  [20 20 29 48]\n",
      "  [ 3 31 42 52]]]\n"
     ]
    },
    {
     "data": {
      "text/plain": [
       "(3, 5, 4)"
      ]
     },
     "execution_count": 42,
     "metadata": {},
     "output_type": "execute_result"
    }
   ],
   "source": [
    "nuevo2_array=np.transpose(array_b,(0,2,1))\n",
    "print(nuevo1_array)\n",
    "nuevo2_array.shape"
   ]
  },
  {
   "cell_type": "markdown",
   "metadata": {},
   "source": [
    "Preguntas teóricas:\n",
    "¿Qué diferencia existe entre el reshape y el transpose?\n",
    "\n",
    "¿Y entre el transpose y el swapaxes?"
   ]
  },
  {
   "cell_type": "markdown",
   "metadata": {},
   "source": [
    "Funciones Aritméticas y Estadísticas:\n",
    "Crea un array de tres 3D con elementos entre el 0 y 1 de forma (2, 3, 5) cuyos valores solo tengan 1 decimal.\n",
    "\n",
    "Crea un array vacío con la misma forma y dimensiones que el array creado anteriormente. Vamos a reemplazar los valores de la matriz vacía que nos acabamos de crear pero basándonos en los valores del primer array bajo las siguientes condiciones:\n",
    "\n",
    "Si el valor del array es igual que la media, se reemplaza por \"A\".\n",
    "\n",
    "Si el valor del array es mayor que la media, se reemplaza por \"B\".\n",
    "\n",
    "Si el valor del array es menor que la media, se reemplaza por \"C\".\n",
    "\n",
    "Si el valor es igual que el máximo, se reemplaza por \"D\".\n",
    "\n",
    "Si el valor es igual que el mínimo, se reemplaza por \"E\"."
   ]
  },
  {
   "cell_type": "code",
   "execution_count": 46,
   "metadata": {},
   "outputs": [
    {
     "data": {
      "text/plain": [
       "array([[[0.1, 0.4, 0.8, 0.9, 0.1],\n",
       "        [0.9, 0.3, 0.9, 0.2, 0.9],\n",
       "        [0.4, 0.3, 0.2, 0.7, 0. ]],\n",
       "\n",
       "       [[0.7, 0.1, 0.5, 0.5, 0.2],\n",
       "        [0.9, 0.3, 0.2, 0.8, 0.6],\n",
       "        [0.8, 0.4, 0.6, 0.7, 0.8]]])"
      ]
     },
     "execution_count": 46,
     "metadata": {},
     "output_type": "execute_result"
    }
   ],
   "source": [
    "array_c=np.round(np.random.sample((2,3,5)),1)\n",
    "array_c"
   ]
  },
  {
   "cell_type": "code",
   "execution_count": 47,
   "metadata": {},
   "outputs": [
    {
     "data": {
      "text/plain": [
       "array([[[0.1, 0.4, 0.8, 0.9, 0.1],\n",
       "        [0.9, 0.3, 0.9, 0.2, 0.9],\n",
       "        [0.4, 0.3, 0.2, 0.7, 0. ]],\n",
       "\n",
       "       [[0.7, 0.1, 0.5, 0.5, 0.2],\n",
       "        [0.9, 0.3, 0.2, 0.8, 0.6],\n",
       "        [0.8, 0.4, 0.6, 0.7, 0.8]]])"
      ]
     },
     "execution_count": 47,
     "metadata": {},
     "output_type": "execute_result"
    }
   ],
   "source": [
    "array_empty=np.empty((2,3,5))\n",
    "array_empty"
   ]
  }
 ],
 "metadata": {
  "kernelspec": {
   "display_name": "base",
   "language": "python",
   "name": "python3"
  },
  "language_info": {
   "codemirror_mode": {
    "name": "ipython",
    "version": 3
   },
   "file_extension": ".py",
   "mimetype": "text/x-python",
   "name": "python",
   "nbconvert_exporter": "python",
   "pygments_lexer": "ipython3",
   "version": "3.11.7"
  }
 },
 "nbformat": 4,
 "nbformat_minor": 2
}
