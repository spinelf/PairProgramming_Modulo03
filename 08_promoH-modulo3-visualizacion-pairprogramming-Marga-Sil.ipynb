{
 "cells": [
  {
   "cell_type": "markdown",
   "metadata": {},
   "source": [
    "## Pair Visualización"
   ]
  },
  {
   "cell_type": "markdown",
   "metadata": {},
   "source": [
    "## Ejercicios visualización\n",
    "\n",
    "En este pair programming usaremos el csv que generamos en el pair programming de ayer, el de la gestión de nulos. A lo largo de este ejercicio plantearemos una serie de preguntas que tendrás que contestar usando la visualización (podréis usar tanto Seaborn como Matplotlib)."
   ]
  },
  {
   "cell_type": "markdown",
   "metadata": {},
   "source": [
    "¿Cómo se distribuye la tasa de natalidad en el conjunto de datos? ¿Hay algún patrón evidente?"
   ]
  },
  {
   "cell_type": "markdown",
   "metadata": {},
   "source": [
    "¿Existe una relación aparente entre la tasa de mortalidad infantil y la esperanza de vida? Proporciona una breve descripción de los patrones que observes."
   ]
  },
  {
   "cell_type": "markdown",
   "metadata": {},
   "source": [
    "¿Cuál es el continente con la mayor cantidad de países en el conjunto de datos? Proporciona el porcentaje de países en ese continente."
   ]
  },
  {
   "cell_type": "markdown",
   "metadata": {},
   "source": [
    "¿Cuál es la mediana de la esperanza de vida en Europa? Proporciona un rango intercuartil aproximado y verifica si existen valores atípicos. s"
   ]
  },
  {
   "cell_type": "markdown",
   "metadata": {},
   "source": [
    "¿Existen relaciones visibles entre la tasa de natalidad y las siguientes variables: tasa de mortalidad infantil, esperanza de vida, densidad de población y población urbana? Usa un subplot. Describe cualquier patrón que encuentres."
   ]
  },
  {
   "cell_type": "markdown",
   "metadata": {},
   "source": [
    "¿Cuáles son los 10 países con la mayor área forestal?"
   ]
  },
  {
   "cell_type": "markdown",
   "metadata": {},
   "source": [
    "Requisitos que deben cumplir las gráficas (en caso de usar alguna de ellas):\n",
    "\n",
    "\n",
    "    Todas deben llevar título.\n",
    "\n",
    "    Los nombres de los ejes deben estar en castellano.\n",
    "\n",
    "    En los scatterplot los puntos deben tener un tamaño de 2.\n",
    "\n",
    "    En los scatterplot los puntos deben tener un color diferente al azul.\n",
    "\n",
    "    En los barplot las barras siempre tienen que estar ordenadas de mayor a menor.\n",
    "\n",
    "    En los barplot y countplot las barras tienen que tener un color diferente a los que vienen por defecto.\n",
    "\n",
    "    En los pieplot siempre tenemos que añadir la etiqueta de a que % corresponde cada quesito."
   ]
  }
 ],
 "metadata": {
  "language_info": {
   "name": "python"
  }
 },
 "nbformat": 4,
 "nbformat_minor": 2
}
