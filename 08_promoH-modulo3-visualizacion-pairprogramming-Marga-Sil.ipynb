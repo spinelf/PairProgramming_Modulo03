{
 "cells": [
  {
   "cell_type": "markdown",
   "metadata": {},
   "source": [
    "## Pair Visualización"
   ]
  },
  {
   "cell_type": "markdown",
   "metadata": {},
   "source": [
    "## Ejercicios visualización\n",
    "\n",
    "En este pair programming usaremos el csv que generamos en el pair programming de ayer, el de la gestión de nulos. A lo largo de este ejercicio plantearemos una serie de preguntas que tendrás que contestar usando la visualización (podréis usar tanto Seaborn como Matplotlib)."
   ]
  },
  {
   "cell_type": "code",
   "execution_count": 19,
   "metadata": {},
   "outputs": [],
   "source": [
    "# importamos las librerías que necesitamos\n",
    "\n",
    "# Tratamiento de datos\n",
    "# -----------------------------------------------------------------------\n",
    "import pandas as pd\n",
    "import numpy as np\n",
    "\n",
    "# Visualización\n",
    "# ------------------------------------------------------------------------------\n",
    "import matplotlib.pyplot as plt\n",
    "import seaborn as sns\n",
    "\n",
    "# Configuración\n",
    "# -----------------------------------------------------------------------\n",
    "pd.set_option('display.max_columns', None) # para poder visualizar todas las columnas de los DataFrames"
   ]
  },
  {
   "cell_type": "code",
   "execution_count": 6,
   "metadata": {},
   "outputs": [
    {
     "data": {
      "text/html": [
       "<div>\n",
       "<style scoped>\n",
       "    .dataframe tbody tr th:only-of-type {\n",
       "        vertical-align: middle;\n",
       "    }\n",
       "\n",
       "    .dataframe tbody tr th {\n",
       "        vertical-align: top;\n",
       "    }\n",
       "\n",
       "    .dataframe thead th {\n",
       "        text-align: right;\n",
       "    }\n",
       "</style>\n",
       "<table border=\"1\" class=\"dataframe\">\n",
       "  <thead>\n",
       "    <tr style=\"text-align: right;\">\n",
       "      <th></th>\n",
       "      <th>country</th>\n",
       "      <th>density</th>\n",
       "      <th>abbreviation</th>\n",
       "      <th>agricultural_land</th>\n",
       "      <th>land_area</th>\n",
       "      <th>armed_forces_size</th>\n",
       "      <th>birth_rate</th>\n",
       "      <th>calling_code</th>\n",
       "      <th>capital/major_city</th>\n",
       "      <th>co2-emissions</th>\n",
       "      <th>cpi</th>\n",
       "      <th>cpi_change</th>\n",
       "      <th>currency-code</th>\n",
       "      <th>fertility_rate</th>\n",
       "      <th>forested_area</th>\n",
       "      <th>gasoline_price</th>\n",
       "      <th>gdp</th>\n",
       "      <th>gross_primary_education_enrollment</th>\n",
       "      <th>gross_tertiary_education_enrollment</th>\n",
       "      <th>infant_mortality</th>\n",
       "      <th>largest_city</th>\n",
       "      <th>life_expectancy</th>\n",
       "      <th>maternal_mortality_ratio</th>\n",
       "      <th>minimum_wage</th>\n",
       "      <th>official_language</th>\n",
       "      <th>out_of_pocket_health_expenditure</th>\n",
       "      <th>physicians_per_thousand</th>\n",
       "      <th>population</th>\n",
       "      <th>population_labor_force_participation</th>\n",
       "      <th>tax_revenue</th>\n",
       "      <th>total_tax_rate</th>\n",
       "      <th>unemployment_rate</th>\n",
       "      <th>urban_population</th>\n",
       "      <th>latitude</th>\n",
       "      <th>longitude</th>\n",
       "    </tr>\n",
       "  </thead>\n",
       "  <tbody>\n",
       "    <tr>\n",
       "      <th>0</th>\n",
       "      <td>Afghanistan</td>\n",
       "      <td>60</td>\n",
       "      <td>AF</td>\n",
       "      <td>58.1</td>\n",
       "      <td>652,230</td>\n",
       "      <td>323,000</td>\n",
       "      <td>32.49</td>\n",
       "      <td>93.0</td>\n",
       "      <td>Kabul</td>\n",
       "      <td>8,672</td>\n",
       "      <td>149.9</td>\n",
       "      <td>2.3</td>\n",
       "      <td>AFN</td>\n",
       "      <td>4.47</td>\n",
       "      <td>2.1</td>\n",
       "      <td>0.70</td>\n",
       "      <td>19,101,353,833</td>\n",
       "      <td>104.0</td>\n",
       "      <td>9.7</td>\n",
       "      <td>47.9</td>\n",
       "      <td>Kabul</td>\n",
       "      <td>64.5</td>\n",
       "      <td>638.0</td>\n",
       "      <td>0.43</td>\n",
       "      <td>Pashto</td>\n",
       "      <td>78.4</td>\n",
       "      <td>0.28</td>\n",
       "      <td>38,041,754</td>\n",
       "      <td>48.9</td>\n",
       "      <td>9.3</td>\n",
       "      <td>71.4</td>\n",
       "      <td>11.12</td>\n",
       "      <td>9,797,273</td>\n",
       "      <td>('33.93911 '</td>\n",
       "      <td>'67.709953')</td>\n",
       "    </tr>\n",
       "    <tr>\n",
       "      <th>1</th>\n",
       "      <td>Albania</td>\n",
       "      <td>105</td>\n",
       "      <td>AL</td>\n",
       "      <td>43.1</td>\n",
       "      <td>28,748</td>\n",
       "      <td>9,000</td>\n",
       "      <td>11.78</td>\n",
       "      <td>355.0</td>\n",
       "      <td>Tirana</td>\n",
       "      <td>4,536</td>\n",
       "      <td>119.05</td>\n",
       "      <td>1.4</td>\n",
       "      <td>ALL</td>\n",
       "      <td>1.62</td>\n",
       "      <td>28.1</td>\n",
       "      <td>1.36</td>\n",
       "      <td>15,278,077,447</td>\n",
       "      <td>107.0</td>\n",
       "      <td>55.0</td>\n",
       "      <td>7.8</td>\n",
       "      <td>Tirana</td>\n",
       "      <td>78.5</td>\n",
       "      <td>15.0</td>\n",
       "      <td>1.12</td>\n",
       "      <td>Albanian</td>\n",
       "      <td>56.9</td>\n",
       "      <td>1.20</td>\n",
       "      <td>2,854,191</td>\n",
       "      <td>55.7</td>\n",
       "      <td>18.6</td>\n",
       "      <td>36.6</td>\n",
       "      <td>12.33</td>\n",
       "      <td>1,747,593</td>\n",
       "      <td>('41.153332 '</td>\n",
       "      <td>'20.168331')</td>\n",
       "    </tr>\n",
       "    <tr>\n",
       "      <th>2</th>\n",
       "      <td>Algeria</td>\n",
       "      <td>18</td>\n",
       "      <td>DZ</td>\n",
       "      <td>17.4</td>\n",
       "      <td>2,381,741</td>\n",
       "      <td>317,000</td>\n",
       "      <td>24.28</td>\n",
       "      <td>213.0</td>\n",
       "      <td>Algiers</td>\n",
       "      <td>150,006</td>\n",
       "      <td>151.36</td>\n",
       "      <td>2.0</td>\n",
       "      <td>DZD</td>\n",
       "      <td>3.02</td>\n",
       "      <td>0.8</td>\n",
       "      <td>0.28</td>\n",
       "      <td>169,988,236,398</td>\n",
       "      <td>109.9</td>\n",
       "      <td>51.4</td>\n",
       "      <td>20.1</td>\n",
       "      <td>Algiers</td>\n",
       "      <td>76.7</td>\n",
       "      <td>112.0</td>\n",
       "      <td>0.95</td>\n",
       "      <td>Arabic</td>\n",
       "      <td>28.1</td>\n",
       "      <td>1.72</td>\n",
       "      <td>43,053,054</td>\n",
       "      <td>41.2</td>\n",
       "      <td>37.2</td>\n",
       "      <td>66.1</td>\n",
       "      <td>11.70</td>\n",
       "      <td>31,510,100</td>\n",
       "      <td>('28.033886 '</td>\n",
       "      <td>'1.659626')</td>\n",
       "    </tr>\n",
       "    <tr>\n",
       "      <th>3</th>\n",
       "      <td>Andorra</td>\n",
       "      <td>164</td>\n",
       "      <td>AD</td>\n",
       "      <td>40.0</td>\n",
       "      <td>468</td>\n",
       "      <td>NaN</td>\n",
       "      <td>7.20</td>\n",
       "      <td>376.0</td>\n",
       "      <td>Andorra la Vella</td>\n",
       "      <td>469</td>\n",
       "      <td>NaN</td>\n",
       "      <td>NaN</td>\n",
       "      <td>EUR</td>\n",
       "      <td>1.27</td>\n",
       "      <td>34.0</td>\n",
       "      <td>1.51</td>\n",
       "      <td>3,154,057,987</td>\n",
       "      <td>106.4</td>\n",
       "      <td>NaN</td>\n",
       "      <td>2.7</td>\n",
       "      <td>Andorra la Vella</td>\n",
       "      <td>NaN</td>\n",
       "      <td>NaN</td>\n",
       "      <td>6.63</td>\n",
       "      <td>Catalan</td>\n",
       "      <td>36.4</td>\n",
       "      <td>3.33</td>\n",
       "      <td>77,142</td>\n",
       "      <td>NaN</td>\n",
       "      <td>NaN</td>\n",
       "      <td>NaN</td>\n",
       "      <td>NaN</td>\n",
       "      <td>67,873</td>\n",
       "      <td>('42.506285 '</td>\n",
       "      <td>'1.521801')</td>\n",
       "    </tr>\n",
       "    <tr>\n",
       "      <th>4</th>\n",
       "      <td>Angola</td>\n",
       "      <td>26</td>\n",
       "      <td>AO</td>\n",
       "      <td>47.5</td>\n",
       "      <td>1,246,700</td>\n",
       "      <td>117,000</td>\n",
       "      <td>40.73</td>\n",
       "      <td>244.0</td>\n",
       "      <td>Luanda</td>\n",
       "      <td>34,693</td>\n",
       "      <td>261.73</td>\n",
       "      <td>17.1</td>\n",
       "      <td>AOA</td>\n",
       "      <td>5.52</td>\n",
       "      <td>46.3</td>\n",
       "      <td>0.97</td>\n",
       "      <td>94,635,415,870</td>\n",
       "      <td>113.5</td>\n",
       "      <td>9.3</td>\n",
       "      <td>51.6</td>\n",
       "      <td>Luanda</td>\n",
       "      <td>60.8</td>\n",
       "      <td>241.0</td>\n",
       "      <td>0.71</td>\n",
       "      <td>Portuguese</td>\n",
       "      <td>33.4</td>\n",
       "      <td>0.21</td>\n",
       "      <td>31,825,295</td>\n",
       "      <td>77.5</td>\n",
       "      <td>9.2</td>\n",
       "      <td>49.1</td>\n",
       "      <td>6.89</td>\n",
       "      <td>21,061,025</td>\n",
       "      <td>('-11.202692 '</td>\n",
       "      <td>'17.873887')</td>\n",
       "    </tr>\n",
       "  </tbody>\n",
       "</table>\n",
       "</div>"
      ],
      "text/plain": [
       "       country density abbreviation  agricultural_land  land_area  \\\n",
       "0  Afghanistan      60           AF               58.1    652,230   \n",
       "1      Albania     105           AL               43.1     28,748   \n",
       "2      Algeria      18           DZ               17.4  2,381,741   \n",
       "3      Andorra     164           AD               40.0        468   \n",
       "4       Angola      26           AO               47.5  1,246,700   \n",
       "\n",
       "  armed_forces_size  birth_rate  calling_code capital/major_city  \\\n",
       "0           323,000       32.49          93.0              Kabul   \n",
       "1             9,000       11.78         355.0             Tirana   \n",
       "2           317,000       24.28         213.0            Algiers   \n",
       "3               NaN        7.20         376.0   Andorra la Vella   \n",
       "4           117,000       40.73         244.0             Luanda   \n",
       "\n",
       "  co2-emissions     cpi  cpi_change currency-code  fertility_rate  \\\n",
       "0         8,672   149.9         2.3           AFN            4.47   \n",
       "1         4,536  119.05         1.4           ALL            1.62   \n",
       "2       150,006  151.36         2.0           DZD            3.02   \n",
       "3           469     NaN         NaN           EUR            1.27   \n",
       "4        34,693  261.73        17.1           AOA            5.52   \n",
       "\n",
       "   forested_area  gasoline_price               gdp  \\\n",
       "0            2.1            0.70   19,101,353,833    \n",
       "1           28.1            1.36   15,278,077,447    \n",
       "2            0.8            0.28  169,988,236,398    \n",
       "3           34.0            1.51    3,154,057,987    \n",
       "4           46.3            0.97   94,635,415,870    \n",
       "\n",
       "   gross_primary_education_enrollment  gross_tertiary_education_enrollment  \\\n",
       "0                               104.0                                  9.7   \n",
       "1                               107.0                                 55.0   \n",
       "2                               109.9                                 51.4   \n",
       "3                               106.4                                  NaN   \n",
       "4                               113.5                                  9.3   \n",
       "\n",
       "   infant_mortality      largest_city  life_expectancy  \\\n",
       "0              47.9             Kabul             64.5   \n",
       "1               7.8            Tirana             78.5   \n",
       "2              20.1           Algiers             76.7   \n",
       "3               2.7  Andorra la Vella              NaN   \n",
       "4              51.6            Luanda             60.8   \n",
       "\n",
       "   maternal_mortality_ratio  minimum_wage official_language  \\\n",
       "0                     638.0          0.43            Pashto   \n",
       "1                      15.0          1.12          Albanian   \n",
       "2                     112.0          0.95            Arabic   \n",
       "3                       NaN          6.63           Catalan   \n",
       "4                     241.0          0.71        Portuguese   \n",
       "\n",
       "   out_of_pocket_health_expenditure  physicians_per_thousand  population  \\\n",
       "0                              78.4                     0.28  38,041,754   \n",
       "1                              56.9                     1.20   2,854,191   \n",
       "2                              28.1                     1.72  43,053,054   \n",
       "3                              36.4                     3.33      77,142   \n",
       "4                              33.4                     0.21  31,825,295   \n",
       "\n",
       "   population_labor_force_participation  tax_revenue  total_tax_rate  \\\n",
       "0                                  48.9          9.3            71.4   \n",
       "1                                  55.7         18.6            36.6   \n",
       "2                                  41.2         37.2            66.1   \n",
       "3                                   NaN          NaN             NaN   \n",
       "4                                  77.5          9.2            49.1   \n",
       "\n",
       "   unemployment_rate urban_population        latitude      longitude  \n",
       "0              11.12        9,797,273    ('33.93911 '   '67.709953')  \n",
       "1              12.33        1,747,593   ('41.153332 '   '20.168331')  \n",
       "2              11.70       31,510,100   ('28.033886 '    '1.659626')  \n",
       "3                NaN           67,873   ('42.506285 '    '1.521801')  \n",
       "4               6.89       21,061,025  ('-11.202692 '   '17.873887')  "
      ]
     },
     "execution_count": 6,
     "metadata": {},
     "output_type": "execute_result"
    }
   ],
   "source": [
    "# lo primero que hacemos es cargar el dataframe que vamos a usar para esta lección\n",
    "df = pd.read_csv('wdata_final.csv', index_col=0) \n",
    "df.head()"
   ]
  },
  {
   "cell_type": "markdown",
   "metadata": {},
   "source": [
    "¿Cómo se distribuye la tasa de natalidad en el conjunto de datos? ¿Hay algún patrón evidente?"
   ]
  },
  {
   "cell_type": "code",
   "execution_count": 12,
   "metadata": {},
   "outputs": [
    {
     "data": {
      "image/png": "[encoded data removed]",
      "text/plain": [
       "<Figure size 640x480 with 1 Axes>"
      ]
     },
     "metadata": {},
     "output_type": "display_data"
    }
   ],
   "source": [
    "#columna a estudiar : birth_rate\n",
    "plt.hist(data=df, x='birth_rate',edgecolor='black', bins=15)\n",
    "\n",
    "plt.xlabel('nºnacimientos/1000')\n",
    "plt.ylabel('frecuencia');"
   ]
  },
  {
   "cell_type": "markdown",
   "metadata": {},
   "source": [
    "En un contexto global, es más común una tasa de nacimiento de 10 nacimientos cada 1000 habitantes al año."
   ]
  },
  {
   "cell_type": "markdown",
   "metadata": {},
   "source": [
    "¿Existe una relación aparente entre la tasa de mortalidad infantil y la esperanza de vida? Proporciona una breve descripción de los patrones que observes."
   ]
  },
  {
   "cell_type": "code",
   "execution_count": 17,
   "metadata": {},
   "outputs": [
    {
     "data": {
      "image/png": "[encoded data removed]",
      "text/plain": [
       "<Figure size 640x480 with 1 Axes>"
      ]
     },
     "metadata": {},
     "output_type": "display_data"
    }
   ],
   "source": [
    "#columnas a utilizar : 'infant_mortality', 'life_expectancy'\n",
    "plt.scatter(data=df, x='infant_mortality',y='life_expectancy')\n",
    "plt.xlabel('mortalidad infantil')\n",
    "plt.ylabel('esperanza de vida');"
   ]
  },
  {
   "cell_type": "markdown",
   "metadata": {},
   "source": [
    "En un contexto global, una gran cantidad de paises presenta una alta esperanza de vida  con una baja mortalidad infantil"
   ]
  },
  {
   "cell_type": "markdown",
   "metadata": {},
   "source": [
    "¿Cuál es el continente con la mayor cantidad de países en el conjunto de datos? Proporciona el porcentaje de países en ese continente."
   ]
  },
  {
   "cell_type": "code",
   "execution_count": 20,
   "metadata": {},
   "outputs": [],
   "source": [
    "continentes = {\n",
    "    'Asia': [\"Philippines\", 'Afghanistan', 'Armenia', 'Azerbaijan', 'Bahrain', 'Bangladesh', 'Bhutan', 'Brunei', 'Cambodia', 'China', 'East Timor', 'India', 'Indonesia', 'Iran', 'Iraq', 'Israel', 'Japan', 'Jordan', 'Kazakhstan', 'Kuwait', 'Kyrgyzstan', 'Laos', 'Lebanon', 'Malaysia', 'Maldives', 'Mongolia', 'Myanmar', 'Nepal', 'North Korea', 'Oman', 'Pakistan', 'Palestinian National Authority', 'Qatar', 'Saudi Arabia', 'Singapore', 'South Korea', 'Sri Lanka', 'Syria', 'Tajikistan', 'Thailand', 'Turkmenistan', 'United Arab Emirates', 'Uzbekistan', 'Vietnam', 'Yemen'],\n",
    "    'Africa': [\"Tunisia\", \"Ivory Coast\", 'Algeria', 'Angola', 'Benin', 'Botswana', 'Burkina Faso', 'Burundi', 'Cape Verde', 'Cameroon', 'Central African Republic', 'Chad', 'Comoros', 'Republic of the Congo', 'Cote d\\'Ivoire', 'Democratic Republic of the Congo', 'Djibouti', 'Egypt', 'Equatorial Guinea', 'Eritrea', 'Eswatini', 'Ethiopia', 'Gabon', 'The Gambia', 'Ghana', 'Guinea', 'Guinea-Bissau', 'Kenya', 'Lesotho', 'Liberia', 'Libya', 'Madagascar', 'Malawi', 'Mali', 'Mauritania', 'Mauritius', 'Morocco', 'Mozambique', 'Namibia', 'Niger', 'Nigeria', 'Rwanda', 'Sao Tome and Principe', 'Senegal', 'Seychelles', 'Sierra Leone', 'Somalia', 'South Africa', 'South Sudan', 'Sudan', 'Tanzania', 'Togo', 'Uganda', 'Zambia', 'Zimbabwe'],\n",
    "    'Europe': [\"Turkey\", \"Republic of Ireland\", \"Vatican City\", 'Albania', 'Andorra', 'Austria', 'Belarus', 'Belgium', 'Bosnia and Herzegovina', 'Bulgaria', 'Croatia', 'Cyprus', 'Czech Republic', 'Denmark', 'Estonia', 'Finland', 'France', 'Georgia', 'Germany', 'Greece', 'Hungary', 'Iceland', 'Ireland', 'Italy', 'Latvia', 'Liechtenstein', 'Lithuania', 'Luxembourg', 'Malta', 'Moldova', 'Monaco', 'Montenegro', 'Netherlands', 'North Macedonia', 'Norway', 'Poland', 'Portugal', 'Romania', 'Russia', 'San Marino', 'Serbia', 'Slovakia', 'Slovenia', 'Spain', 'Sweden', 'Switzerland', 'Ukraine', 'United Kingdom'],\n",
    "    \"Central America\":[\"Belize\", \"Saint Vincent and the Grenadines\", \"Saint Lucia\", \"Saint Kitts and Nevis\", \"Panama\", \"Nicaragua\", \"Mexico\", \"Jamaica\", \"Honduras\", \"Haiti\", \"Guatemala\", \"Grenada\", \"El Salvador\", \"Dominican Republic\", \"Dominica\", \"Cuba\", \"Antigua and Barbuda\", \"The Bahamas\", \"Barbados\",\" Belize\", \"Costa Rica\",  ], \n",
    "    'North America': ['Canada', 'United States'],\n",
    "    'South America': [\"Trinidad and Tobago\", 'Argentina', 'Bolivia', 'Brazil', 'Chile', 'Colombia', 'Ecuador', 'Guyana', 'Paraguay', 'Peru', 'Suriname', 'Uruguay', 'Venezuela'],\n",
    "    'Oceania': [\"Papua New Guinea\", \"Federated States of Micronesia\", 'Australia', 'Fiji', 'Kiribati', 'Marshall Islands', 'Nauru', 'New Zealand', 'Palau', 'Samoa', 'Solomon Islands', 'Tonga', 'Tuvalu', 'Vanuatu']\n",
    "}\n",
    "\n",
    "def sacar_continente(diccionario_continentes, col):\n",
    "    for k, v in diccionario_continentes.items():\n",
    "        if col in v:\n",
    "            return k\n",
    "    return np.nan\n",
    "    \n",
    "df[\"continent\"] = df.apply(lambda x: sacar_continente(continentes, x[\"country\"]), axis = 1)"
   ]
  },
  {
   "cell_type": "code",
   "execution_count": 21,
   "metadata": {},
   "outputs": [
    {
     "data": {
      "text/plain": [
       "Index(['country', 'density', 'abbreviation', 'agricultural_land', 'land_area',\n",
       "       'armed_forces_size', 'birth_rate', 'calling_code', 'capital/major_city',\n",
       "       'co2-emissions', 'cpi', 'cpi_change', 'currency-code', 'fertility_rate',\n",
       "       'forested_area', 'gasoline_price', 'gdp',\n",
       "       'gross_primary_education_enrollment',\n",
       "       'gross_tertiary_education_enrollment', 'infant_mortality',\n",
       "       'largest_city', 'life_expectancy', 'maternal_mortality_ratio',\n",
       "       'minimum_wage', 'official_language', 'out_of_pocket_health_expenditure',\n",
       "       'physicians_per_thousand', 'population',\n",
       "       'population_labor_force_participation', 'tax_revenue', 'total_tax_rate',\n",
       "       'unemployment_rate', 'urban_population', 'latitude', 'longitude',\n",
       "       'continent'],\n",
       "      dtype='object')"
      ]
     },
     "execution_count": 21,
     "metadata": {},
     "output_type": "execute_result"
    }
   ],
   "source": [
    "df.columns"
   ]
  },
  {
   "cell_type": "code",
   "execution_count": 32,
   "metadata": {},
   "outputs": [],
   "source": [
    "#usamos la columna 'continet'\n",
    "#group by contar cuantos paises hay por continente:\n",
    "#% de paises por continete=nºde paisesxcontinente/total de paises*100%\n",
    "df_paises_continet=df.groupby('continent')['country'].count().reset_index()\n",
    "df_paises_continet\n",
    "df['porcentaje_pais_continente']=(df_paises_continet['country']/df['country'].count())*100\n",
    "#borrar columnas creadas por error!!!!!!\n"
   ]
  },
  {
   "cell_type": "code",
   "execution_count": 42,
   "metadata": {},
   "outputs": [
    {
     "ename": "ValueError",
     "evalue": "Cannot pass values for both `x` and `y`",
     "output_type": "error",
     "traceback": [
      "\u001b[1;31m---------------------------------------------------------------------------\u001b[0m",
      "\u001b[1;31mValueError\u001b[0m                                Traceback (most recent call last)",
      "Cell \u001b[1;32mIn[42], line 2\u001b[0m\n\u001b[0;32m      1\u001b[0m \u001b[38;5;66;03m#columnas porcentaje pais y contines\u001b[39;00m\n\u001b[1;32m----> 2\u001b[0m sns\u001b[38;5;241m.\u001b[39mcountplot(data\u001b[38;5;241m=\u001b[39mdf,x\u001b[38;5;241m=\u001b[39m\u001b[38;5;124m'\u001b[39m\u001b[38;5;124mcontinent\u001b[39m\u001b[38;5;124m'\u001b[39m,y\u001b[38;5;241m=\u001b[39m\u001b[38;5;124m'\u001b[39m\u001b[38;5;124mcountry\u001b[39m\u001b[38;5;124m'\u001b[39m)\n",
      "File \u001b[1;32mc:\\Users\\marg_\\anaconda3\\Lib\\site-packages\\seaborn\\categorical.py:2941\u001b[0m, in \u001b[0;36mcountplot\u001b[1;34m(data, x, y, hue, order, hue_order, orient, color, palette, saturation, width, dodge, ax, **kwargs)\u001b[0m\n\u001b[0;32m   2939\u001b[0m     y \u001b[38;5;241m=\u001b[39m x\n\u001b[0;32m   2940\u001b[0m \u001b[38;5;28;01melif\u001b[39;00m x \u001b[38;5;129;01mis\u001b[39;00m \u001b[38;5;129;01mnot\u001b[39;00m \u001b[38;5;28;01mNone\u001b[39;00m \u001b[38;5;129;01mand\u001b[39;00m y \u001b[38;5;129;01mis\u001b[39;00m \u001b[38;5;129;01mnot\u001b[39;00m \u001b[38;5;28;01mNone\u001b[39;00m:\n\u001b[1;32m-> 2941\u001b[0m     \u001b[38;5;28;01mraise\u001b[39;00m \u001b[38;5;167;01mValueError\u001b[39;00m(\u001b[38;5;124m\"\u001b[39m\u001b[38;5;124mCannot pass values for both `x` and `y`\u001b[39m\u001b[38;5;124m\"\u001b[39m)\n\u001b[0;32m   2943\u001b[0m plotter \u001b[38;5;241m=\u001b[39m _CountPlotter(\n\u001b[0;32m   2944\u001b[0m     x, y, hue, data, order, hue_order,\n\u001b[0;32m   2945\u001b[0m     estimator, errorbar, n_boot, units, seed,\n\u001b[0;32m   2946\u001b[0m     orient, color, palette, saturation,\n\u001b[0;32m   2947\u001b[0m     width, errcolor, errwidth, capsize, dodge\n\u001b[0;32m   2948\u001b[0m )\n\u001b[0;32m   2950\u001b[0m plotter\u001b[38;5;241m.\u001b[39mvalue_label \u001b[38;5;241m=\u001b[39m \u001b[38;5;124m\"\u001b[39m\u001b[38;5;124mcount\u001b[39m\u001b[38;5;124m\"\u001b[39m\n",
      "\u001b[1;31mValueError\u001b[0m: Cannot pass values for both `x` and `y`"
     ]
    }
   ],
   "source": [
    "#columnas porcentaje pais y contines\n",
    "sns.countplot(data=df,x='continent',y='country');"
   ]
  },
  {
   "cell_type": "markdown",
   "metadata": {},
   "source": [
    "¿Cuál es la mediana de la esperanza de vida en Europa? Proporciona un rango intercuartil aproximado y verifica si existen valores atípicos. s"
   ]
  },
  {
   "cell_type": "markdown",
   "metadata": {},
   "source": [
    "¿Existen relaciones visibles entre la tasa de natalidad y las siguientes variables: tasa de mortalidad infantil, esperanza de vida, densidad de población y población urbana? Usa un subplot. Describe cualquier patrón que encuentres."
   ]
  },
  {
   "cell_type": "markdown",
   "metadata": {},
   "source": [
    "¿Cuáles son los 10 países con la mayor área forestal?"
   ]
  },
  {
   "cell_type": "markdown",
   "metadata": {},
   "source": [
    "Requisitos que deben cumplir las gráficas (en caso de usar alguna de ellas):\n",
    "\n",
    "\n",
    "    Todas deben llevar título.\n",
    "\n",
    "    Los nombres de los ejes deben estar en castellano.\n",
    "\n",
    "    En los scatterplot los puntos deben tener un tamaño de 2.\n",
    "\n",
    "    En los scatterplot los puntos deben tener un color diferente al azul.\n",
    "\n",
    "    En los barplot las barras siempre tienen que estar ordenadas de mayor a menor.\n",
    "\n",
    "    En los barplot y countplot las barras tienen que tener un color diferente a los que vienen por defecto.\n",
    "\n",
    "    En los pieplot siempre tenemos que añadir la etiqueta de a que % corresponde cada quesito."
   ]
  }
 ],
 "metadata": {
  "kernelspec": {
   "display_name": "base",
   "language": "python",
   "name": "python3"
  },
  "language_info": {
   "codemirror_mode": {
    "name": "ipython",
    "version": 3
   },
   "file_extension": ".py",
   "mimetype": "text/x-python",
   "name": "python",
   "nbconvert_exporter": "python",
   "pygments_lexer": "ipython3",
   "version": "3.11.7"
  }
 },
 "nbformat": 4,
 "nbformat_minor": 2
}
